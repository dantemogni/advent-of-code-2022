{
 "cells": [
  {
   "cell_type": "code",
   "execution_count": 124,
   "metadata": {},
   "outputs": [],
   "source": [
    "# Functions\n",
    "\n",
    "def read_lines(filename):\n",
    "    with open(filename, 'r') as f:\n",
    "        return f.readlines()\n",
    "    \n",
    "def is_separator(line: str):\n",
    "    return line == '\\n'\n",
    "\n",
    "def group_data(data: list):\n",
    "    info = []\n",
    "    accumulated = []\n",
    "    \n",
    "    for line in data:       \n",
    "        accumulated.append(line.strip())\n",
    "        if is_separator(line):\n",
    "            accumulated.pop() # removes empty line\n",
    "            info.append(accumulated.copy())\n",
    "            accumulated.clear()\n",
    "      \n",
    "    return info\n",
    "\n",
    "def sum_calories(data: list):\n",
    "    return sum(int(x) for x in data)\n",
    "\n",
    "def sum_in_list(l): \n",
    "    sum_data = []\n",
    "    for item in group_data(l):\n",
    "        sum_data.append(sum_calories(item))\n",
    "        \n",
    "    return sum_data"
   ]
  },
  {
   "cell_type": "code",
   "execution_count": 125,
   "metadata": {},
   "outputs": [
    {
     "name": "stdout",
     "output_type": "stream",
     "text": [
      "[67027, 65333, 64931]\n"
     ]
    },
    {
     "data": {
      "text/plain": [
       "197291"
      ]
     },
     "execution_count": 125,
     "metadata": {},
     "output_type": "execute_result"
    }
   ],
   "source": [
    "# main\n",
    "\n",
    "lines = read_lines('input.txt')\n",
    "\n",
    "sum_data = sum_in_list(lines)\n",
    "sum_data.sort(reverse=True)\n",
    "\n",
    "# Top one elf\n",
    "print(sum_data[0:3])\n",
    "\n",
    "# Sum of the top three elfs\n",
    "sum(sum_data[0:3])"
   ]
  }
 ],
 "metadata": {
  "kernelspec": {
   "display_name": "Python 3.10.8 64-bit",
   "language": "python",
   "name": "python3"
  },
  "language_info": {
   "codemirror_mode": {
    "name": "ipython",
    "version": 3
   },
   "file_extension": ".py",
   "mimetype": "text/x-python",
   "name": "python",
   "nbconvert_exporter": "python",
   "pygments_lexer": "ipython3",
   "version": "3.10.8"
  },
  "orig_nbformat": 4,
  "vscode": {
   "interpreter": {
    "hash": "e7370f93d1d0cde622a1f8e1c04877d8463912d04d973331ad4851f04de6915a"
   }
  }
 },
 "nbformat": 4,
 "nbformat_minor": 2
}
