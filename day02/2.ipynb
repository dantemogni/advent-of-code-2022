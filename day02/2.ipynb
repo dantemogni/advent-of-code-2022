{
 "cells": [
  {
   "cell_type": "markdown",
   "metadata": {},
   "source": [
    "### Part 1"
   ]
  },
  {
   "cell_type": "code",
   "execution_count": 33,
   "metadata": {},
   "outputs": [],
   "source": [
    "class Elve:\n",
    "    ROCK = 'A'\n",
    "    PAPER = 'B'\n",
    "    SCISSORS = 'C'\n",
    "\n",
    "class Me:\n",
    "    ROCK = 'X'\n",
    "    PAPER = 'Y'\n",
    "    SCISSORS = 'Z'\n",
    "    \n",
    "def read_lines(filename):\n",
    "    with open(filename, 'r') as f:\n",
    "        return [f.strip() for f in f.readlines()]\n",
    "    \n",
    "def calc_round(elve, me):\n",
    "    map = {\n",
    "        'A': 'X', # rock\n",
    "        'B': 'Y', # paper \n",
    "        'C': 'Z' # scissors\n",
    "    }\n",
    "    \n",
    "    if map[elve] == me:\n",
    "        return 3\n",
    "    \n",
    "    match elve:\n",
    "        case Elve.ROCK:\n",
    "            if me == Me.PAPER:\n",
    "                return 6\n",
    "        case Elve.PAPER:\n",
    "            if me == Me.SCISSORS:\n",
    "                return 6\n",
    "        case Elve.SCISSORS:\n",
    "            if me == Me.ROCK:\n",
    "                return 6\n",
    "    \n",
    "    return 0\n",
    "\n",
    "def get_shape_score(shape):\n",
    "    return 1 if shape == Me.ROCK else 2 if shape == Me.PAPER else 3\n"
   ]
  },
  {
   "cell_type": "code",
   "execution_count": 34,
   "metadata": {},
   "outputs": [
    {
     "name": "stdout",
     "output_type": "stream",
     "text": [
      "13221\n"
     ]
    }
   ],
   "source": [
    "my_score = 0\n",
    "for line in read_lines('input.txt'):\n",
    "    elve, me = line.split(' ')\n",
    "    my_score = my_score + calc_round(elve, me) + get_shape_score(me)\n",
    "    \n",
    "print(my_score)"
   ]
  },
  {
   "cell_type": "markdown",
   "metadata": {},
   "source": [
    "### Part 2"
   ]
  },
  {
   "cell_type": "code",
   "execution_count": 57,
   "metadata": {},
   "outputs": [],
   "source": [
    "class Me:\n",
    "    LOSE = 'X'\n",
    "    DRAW = 'Y'\n",
    "    WIN = 'Z'\n",
    "\n",
    "def read_lines(filename):\n",
    "    with open(filename, 'r') as f:\n",
    "        return [f.strip() for f in f.readlines()]\n",
    "    \n",
    "def calc_round(elve, me):    \n",
    "    match me:\n",
    "        case Me.LOSE:\n",
    "            return 0 + get_shape_score(get_shape_weakness(get_shape_weakness(elve)))\n",
    "        case Me.DRAW:\n",
    "            return 3 + get_shape_score(elve)\n",
    "        case Me.WIN:\n",
    "            return 6 + get_shape_score(get_shape_weakness(elve))\n",
    "    \n",
    "    return 0\n",
    "\n",
    "def get_shape_weakness(shape):\n",
    "    weakness = {\n",
    "        'A': 'B',\n",
    "        'B': 'C',\n",
    "        'C': 'A'\n",
    "    }\n",
    "    return weakness[shape]\n",
    "    \n",
    "def get_shape_score(shape) ->  int:\n",
    "    score = {\n",
    "        'A': 1,\n",
    "        'B': 2,\n",
    "        'C': 3\n",
    "    }\n",
    "    return score[shape] "
   ]
  },
  {
   "cell_type": "code",
   "execution_count": 58,
   "metadata": {},
   "outputs": [
    {
     "name": "stdout",
     "output_type": "stream",
     "text": [
      "13131\n"
     ]
    }
   ],
   "source": [
    "my_score = 0\n",
    "for line in read_lines('input.txt'):\n",
    "    elve, me = line.split(' ')\n",
    "    my_score = my_score + calc_round(elve, me)\n",
    "    \n",
    "print(my_score)"
   ]
  }
 ],
 "metadata": {
  "kernelspec": {
   "display_name": "Python 3.10.8 64-bit",
   "language": "python",
   "name": "python3"
  },
  "language_info": {
   "codemirror_mode": {
    "name": "ipython",
    "version": 3
   },
   "file_extension": ".py",
   "mimetype": "text/x-python",
   "name": "python",
   "nbconvert_exporter": "python",
   "pygments_lexer": "ipython3",
   "version": "3.10.8"
  },
  "orig_nbformat": 4,
  "vscode": {
   "interpreter": {
    "hash": "e7370f93d1d0cde622a1f8e1c04877d8463912d04d973331ad4851f04de6915a"
   }
  }
 },
 "nbformat": 4,
 "nbformat_minor": 2
}
