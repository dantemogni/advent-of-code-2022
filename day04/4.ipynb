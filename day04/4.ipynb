{
 "cells": [
  {
   "cell_type": "markdown",
   "metadata": {},
   "source": [
    "### Part 1"
   ]
  },
  {
   "cell_type": "code",
   "execution_count": 3,
   "metadata": {},
   "outputs": [],
   "source": [
    "def read_lines(filename):\n",
    "    with open(filename, 'r') as f:\n",
    "        return [f.strip() for f in f.readlines()]\n",
    "\n",
    "def get_tuples(lines: list, sep=' '):\n",
    "    l = []\n",
    "    for line in lines:\n",
    "        l.append(tuple(line.split(\"-\")))\n",
    "    return l\n",
    "\n",
    "def is_contained(tup1, tup2):    \n",
    "    return (int(tup1[0]) >= int(tup2[0]) and int(tup1[1]) <= int(tup2[1])) or (int(tup1[0]) <= int(tup2[0]) and int(tup1[1]) >= int(tup2[1]))"
   ]
  },
  {
   "cell_type": "code",
   "execution_count": 136,
   "metadata": {},
   "outputs": [
    {
     "name": "stdout",
     "output_type": "stream",
     "text": [
      "567\n"
     ]
    }
   ],
   "source": [
    "lines = []\n",
    "\n",
    "for line in read_lines('input.txt'):\n",
    "    lines.append(get_tuples(line.split(','), sep='-'))\n",
    "    \n",
    "# print(lines)\n",
    "\n",
    "cont = 0\n",
    "for line in lines:\n",
    "    if is_contained(line[0], line[1]):\n",
    "        cont += 1\n",
    "    \n",
    "print(cont)"
   ]
  },
  {
   "cell_type": "markdown",
   "metadata": {},
   "source": [
    "### Part 2"
   ]
  },
  {
   "cell_type": "code",
   "execution_count": 9,
   "metadata": {},
   "outputs": [],
   "source": [
    "def is_intersected(tup1, tup2):\n",
    "    return (int(tup2[1]) >= int(tup1[0]) >= int(tup2[0])) or (int(tup1[1]) >= int(tup2[0]) >= int(tup1[0]))"
   ]
  },
  {
   "cell_type": "code",
   "execution_count": 10,
   "metadata": {},
   "outputs": [
    {
     "name": "stdout",
     "output_type": "stream",
     "text": [
      "841\n"
     ]
    }
   ],
   "source": [
    "lines = []\n",
    "\n",
    "for line in read_lines('input.txt'):\n",
    "    lines.append(get_tuples(line.split(','), sep='-'))\n",
    "    \n",
    "cont = 0\n",
    "for line in lines:\n",
    "    if is_intersected(line[0], line[1]):\n",
    "        cont += 1\n",
    "    \n",
    "print(cont)"
   ]
  }
 ],
 "metadata": {
  "kernelspec": {
   "display_name": "Python 3.10.8 64-bit",
   "language": "python",
   "name": "python3"
  },
  "language_info": {
   "codemirror_mode": {
    "name": "ipython",
    "version": 3
   },
   "file_extension": ".py",
   "mimetype": "text/x-python",
   "name": "python",
   "nbconvert_exporter": "python",
   "pygments_lexer": "ipython3",
   "version": "3.10.8"
  },
  "orig_nbformat": 4,
  "vscode": {
   "interpreter": {
    "hash": "e7370f93d1d0cde622a1f8e1c04877d8463912d04d973331ad4851f04de6915a"
   }
  }
 },
 "nbformat": 4,
 "nbformat_minor": 2
}
