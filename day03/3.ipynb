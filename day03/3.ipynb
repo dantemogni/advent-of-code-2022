{
 "cells": [
  {
   "cell_type": "markdown",
   "metadata": {},
   "source": [
    "### Part 1"
   ]
  },
  {
   "cell_type": "code",
   "execution_count": 2,
   "metadata": {},
   "outputs": [],
   "source": [
    "def read_lines(filename):\n",
    "    with open(filename, 'r') as f:\n",
    "        return [f.strip() for f in f.readlines()]\n",
    "\n",
    "def get_half(input):\n",
    "    half = len(input) // 2\n",
    "    return input[:half], input[half:]\n",
    "\n",
    "def get_common_letter(input1: str, input2: str):\n",
    "    input1 = set(input1)\n",
    "    input2 = set(input2)\n",
    "\n",
    "    return input1.intersection(input2).pop()\n",
    "\n",
    "def get_priority(input):\n",
    "    abc = 'abcdefghijklmnopqrstuvwxyzABCDEFGHIJKLMNOPQRSTUVWXYZ'\n",
    "    return abc.index(input) + 1"
   ]
  },
  {
   "cell_type": "code",
   "execution_count": 3,
   "metadata": {},
   "outputs": [
    {
     "name": "stdout",
     "output_type": "stream",
     "text": [
      "8401\n"
     ]
    }
   ],
   "source": [
    "result = 0\n",
    "\n",
    "for line in read_lines('input.txt'):\n",
    "    a, b  = get_half(line)\n",
    "    \n",
    "    result = result + get_priority(get_common_letter(a, b))\n",
    "    \n",
    "print(result)"
   ]
  },
  {
   "cell_type": "markdown",
   "metadata": {},
   "source": [
    "### Part 2"
   ]
  },
  {
   "cell_type": "code",
   "execution_count": 14,
   "metadata": {},
   "outputs": [],
   "source": [
    "def group_by_three(input):\n",
    "    return [input[i:i+3] for i in range(0, len(input), 3)]\n",
    "\n",
    "def get_common_letter(*args):\n",
    "    return set.intersection(*map(set, args)).pop()"
   ]
  },
  {
   "cell_type": "code",
   "execution_count": 15,
   "metadata": {},
   "outputs": [
    {
     "name": "stdout",
     "output_type": "stream",
     "text": [
      "{'h'}\n",
      "{'n'}\n",
      "{'J'}\n",
      "{'v'}\n",
      "{'m'}\n",
      "{'S'}\n",
      "{'H'}\n",
      "{'v'}\n",
      "{'G'}\n",
      "{'B'}\n",
      "{'l'}\n",
      "{'z'}\n",
      "{'r'}\n",
      "{'d'}\n",
      "{'H'}\n",
      "{'Q'}\n",
      "{'b'}\n",
      "{'q'}\n",
      "{'s'}\n",
      "{'g'}\n",
      "{'t'}\n",
      "{'r'}\n",
      "{'h'}\n",
      "{'b'}\n",
      "{'T'}\n",
      "{'G'}\n",
      "{'j'}\n",
      "{'F'}\n",
      "{'P'}\n",
      "{'Z'}\n",
      "{'g'}\n",
      "{'q'}\n",
      "{'H'}\n",
      "{'t'}\n",
      "{'v'}\n",
      "{'J'}\n",
      "{'M'}\n",
      "{'l'}\n",
      "{'j'}\n",
      "{'H'}\n",
      "{'N'}\n",
      "{'z'}\n",
      "{'C'}\n",
      "{'h'}\n",
      "{'F'}\n",
      "{'C'}\n",
      "{'G'}\n",
      "{'R'}\n",
      "{'Z'}\n",
      "{'g'}\n",
      "{'h'}\n",
      "{'d'}\n",
      "{'Z'}\n",
      "{'Z'}\n",
      "{'R'}\n",
      "{'m'}\n",
      "{'N'}\n",
      "{'T'}\n",
      "{'P'}\n",
      "{'M'}\n",
      "{'C'}\n",
      "{'n'}\n",
      "{'G'}\n",
      "{'N'}\n",
      "{'f'}\n",
      "{'M'}\n",
      "{'F'}\n",
      "{'T'}\n",
      "{'s'}\n",
      "{'w'}\n",
      "{'n'}\n",
      "{'j'}\n",
      "{'P'}\n",
      "{'d'}\n",
      "{'c'}\n",
      "{'C'}\n",
      "{'T'}\n",
      "{'z'}\n",
      "{'z'}\n",
      "{'g'}\n",
      "{'R'}\n",
      "{'z'}\n",
      "{'p'}\n",
      "{'L'}\n",
      "{'f'}\n",
      "{'W'}\n",
      "{'C'}\n",
      "{'m'}\n",
      "{'L'}\n",
      "{'B'}\n",
      "{'z'}\n",
      "{'W'}\n",
      "{'z'}\n",
      "{'C'}\n",
      "{'S'}\n",
      "{'R'}\n",
      "{'m'}\n",
      "{'f'}\n",
      "{'r'}\n",
      "{'M'}\n",
      "2641\n"
     ]
    }
   ],
   "source": [
    "result = 0\n",
    "\n",
    "for group in group_by_three(read_lines('input.txt')):    \n",
    "    result = result + get_priority(get_common_letter(group[0], group[1], group[2]))\n",
    "\n",
    "print(result)\n",
    "    "
   ]
  }
 ],
 "metadata": {
  "kernelspec": {
   "display_name": "Python 3.10.8 64-bit",
   "language": "python",
   "name": "python3"
  },
  "language_info": {
   "codemirror_mode": {
    "name": "ipython",
    "version": 3
   },
   "file_extension": ".py",
   "mimetype": "text/x-python",
   "name": "python",
   "nbconvert_exporter": "python",
   "pygments_lexer": "ipython3",
   "version": "3.10.8"
  },
  "orig_nbformat": 4,
  "vscode": {
   "interpreter": {
    "hash": "e7370f93d1d0cde622a1f8e1c04877d8463912d04d973331ad4851f04de6915a"
   }
  }
 },
 "nbformat": 4,
 "nbformat_minor": 2
}
