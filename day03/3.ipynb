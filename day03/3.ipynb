{
 "cells": [
  {
   "cell_type": "markdown",
   "metadata": {},
   "source": [
    "### Part 1"
   ]
  },
  {
   "cell_type": "code",
   "execution_count": 2,
   "metadata": {},
   "outputs": [],
   "source": [
    "def read_lines(filename):\n",
    "    with open(filename, 'r') as f:\n",
    "        return [f.strip() for f in f.readlines()]\n",
    "\n",
    "def get_half(input):\n",
    "    half = len(input) // 2\n",
    "    return input[:half], input[half:]\n",
    "\n",
    "def get_common_letter(input1: str, input2: str):\n",
    "    input1 = set(input1)\n",
    "    input2 = set(input2)\n",
    "\n",
    "    return input1.intersection(input2).pop()\n",
    "\n",
    "def get_priority(input):\n",
    "    abc = 'abcdefghijklmnopqrstuvwxyzABCDEFGHIJKLMNOPQRSTUVWXYZ'\n",
    "    return abc.index(input) + 1"
   ]
  },
  {
   "cell_type": "code",
   "execution_count": 3,
   "metadata": {},
   "outputs": [
    {
     "name": "stdout",
     "output_type": "stream",
     "text": [
      "8401\n"
     ]
    }
   ],
   "source": [
    "result = 0\n",
    "\n",
    "for line in read_lines('input.txt'):\n",
    "    a, b  = get_half(line)\n",
    "    \n",
    "    result = result + get_priority(get_common_letter(a, b))\n",
    "    \n",
    "print(result)"
   ]
  },
  {
   "cell_type": "markdown",
   "metadata": {},
   "source": [
    "### Part 2"
   ]
  },
  {
   "cell_type": "code",
   "execution_count": 6,
   "metadata": {},
   "outputs": [],
   "source": [
    "def group_by_three(input):\n",
    "    return [input[i:i+3] for i in range(0, len(input), 3)]\n",
    "\n",
    "def get_common_letter(input1: str, input2: str, input3: str):\n",
    "    input1 = set(input1)\n",
    "    input2 = set(input2)\n",
    "    input3 = set(input3)\n",
    "\n",
    "\n",
    "    return input1.intersection(input2).intersection(input3).pop()\n",
    "\n",
    "def get_common_letter(input1: str, input2: str, input3: str):\n",
    "    # could be better\n",
    "    input1 = set(input1)\n",
    "    input2 = set(input2)\n",
    "    input3 = set(input3)\n",
    "\n",
    "\n",
    "    return input1.intersection(input2).intersection(input3).pop()"
   ]
  },
  {
   "cell_type": "code",
   "execution_count": 7,
   "metadata": {},
   "outputs": [
    {
     "name": "stdout",
     "output_type": "stream",
     "text": [
      "2641\n"
     ]
    }
   ],
   "source": [
    "result = 0\n",
    "\n",
    "for group in group_by_three(read_lines('input.txt')):    \n",
    "    result = result + get_priority(get_common_letter(group[0], group[1], group[2]))\n",
    "\n",
    "print(result)\n",
    "    "
   ]
  }
 ],
 "metadata": {
  "kernelspec": {
   "display_name": "Python 3.10.8 64-bit",
   "language": "python",
   "name": "python3"
  },
  "language_info": {
   "codemirror_mode": {
    "name": "ipython",
    "version": 3
   },
   "file_extension": ".py",
   "mimetype": "text/x-python",
   "name": "python",
   "nbconvert_exporter": "python",
   "pygments_lexer": "ipython3",
   "version": "3.10.8"
  },
  "orig_nbformat": 4,
  "vscode": {
   "interpreter": {
    "hash": "e7370f93d1d0cde622a1f8e1c04877d8463912d04d973331ad4851f04de6915a"
   }
  }
 },
 "nbformat": 4,
 "nbformat_minor": 2
}
